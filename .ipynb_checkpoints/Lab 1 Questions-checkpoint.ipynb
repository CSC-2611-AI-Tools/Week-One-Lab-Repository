{
 "cells": [
  {
   "cell_type": "markdown",
   "metadata": {
    "id": "sMKsnLYTCOlH"
   },
   "source": [
    "### Please complete the Python function body for each question and submit the same Jupyter notebook file with your solutions."
   ]
  },
  {
   "cell_type": "markdown",
   "metadata": {
    "id": "7dnkwSCQddJd"
   },
   "source": [
    "## Two Sum (Completed)"
   ]
  },
  {
   "cell_type": "code",
   "execution_count": 1,
   "metadata": {
    "id": "LRpem_7bdSut",
    "jupyter": {
     "is_executing": true
    }
   },
   "outputs": [],
   "source": [
    "#Your solution:\n",
    "def twoSum(nums, target):\n",
    "    for i in range(0, len(nums)):\n",
    "        if nums[i] + nums[i + 1] == target:\n",
    "            return i, i+1\n"
   ]
  },
  {
   "cell_type": "markdown",
   "metadata": {
    "id": "TJK7WeN-erxa"
   },
   "source": [
    "### Two sum test cases:"
   ]
  },
  {
   "cell_type": "code",
   "execution_count": 2,
   "metadata": {
    "colab": {
     "base_uri": "https://localhost:8080/"
    },
    "id": "zK3QaWhndytk",
    "outputId": "735fa0a9-e5f0-41ca-d178-eb5627ee85a8"
   },
   "outputs": [
    {
     "data": {
      "text/plain": [
       "(0, 1)"
      ]
     },
     "execution_count": 2,
     "metadata": {},
     "output_type": "execute_result"
    }
   ],
   "source": [
    "# test 1\n",
    "twoSum([2,7,11,15], 9)"
   ]
  },
  {
   "cell_type": "code",
   "execution_count": 3,
   "metadata": {
    "colab": {
     "base_uri": "https://localhost:8080/"
    },
    "id": "JzePyKnXe08c",
    "outputId": "92d5c7a8-8723-4189-e1db-1e4b834df522"
   },
   "outputs": [
    {
     "data": {
      "text/plain": [
       "(0, 1)"
      ]
     },
     "execution_count": 3,
     "metadata": {},
     "output_type": "execute_result"
    }
   ],
   "source": [
    "# test 2\n",
    "twoSum([3,3],6)"
   ]
  },
  {
   "cell_type": "markdown",
   "metadata": {
    "id": "5vyqcVSlf5ao"
   },
   "source": [
    "## Longest Substring Without Repeating Characters\n"
   ]
  },
  {
   "cell_type": "code",
   "execution_count": 4,
   "metadata": {
    "id": "OGbwZU8Od-w7"
   },
   "outputs": [],
   "source": [
    "def lengthOfLongestSubstring(s: str) -> int:\n",
    "    curr = \"\"\n",
    "    longest = \"\"\n",
    "    seen = set()\n",
    "\n",
    "    for char in s:\n",
    "        if char in seen:\n",
    "            if len(curr) > len(longest):\n",
    "                longest = curr\n",
    "            seen = set()\n",
    "            curr = \"\"\n",
    "        seen.add(char)\n",
    "        curr = curr + char\n",
    "    return len(longest)\n",
    "  #Your solution"
   ]
  },
  {
   "cell_type": "markdown",
   "metadata": {
    "id": "qLkXg4QhgjyV"
   },
   "source": [
    "### Longest Substring Without Repeating Characters Test Cases"
   ]
  },
  {
   "cell_type": "code",
   "execution_count": 5,
   "metadata": {
    "colab": {
     "base_uri": "https://localhost:8080/"
    },
    "id": "Q3efAbbWgA74",
    "outputId": "0e8076aa-91b4-493c-ad0a-28fce84559c0"
   },
   "outputs": [
    {
     "data": {
      "text/plain": [
       "3"
      ]
     },
     "execution_count": 5,
     "metadata": {},
     "output_type": "execute_result"
    }
   ],
   "source": [
    "s = \"abcabcbb\"\n",
    "lengthOfLongestSubstring(s)"
   ]
  },
  {
   "cell_type": "code",
   "execution_count": 6,
   "metadata": {
    "colab": {
     "base_uri": "https://localhost:8080/"
    },
    "id": "tEs473PGhHg5",
    "outputId": "beb552c6-ceb0-41af-acdd-157fc3d3cb93"
   },
   "outputs": [
    {
     "data": {
      "text/plain": [
       "3"
      ]
     },
     "execution_count": 6,
     "metadata": {},
     "output_type": "execute_result"
    }
   ],
   "source": [
    "s = \"pwwkew\"\n",
    "lengthOfLongestSubstring(s)"
   ]
  },
  {
   "cell_type": "code",
   "execution_count": 7,
   "metadata": {
    "colab": {
     "base_uri": "https://localhost:8080/"
    },
    "id": "k-ZpfIwfhOA4",
    "outputId": "7df4001d-0c6b-4222-eadd-ba1517631794"
   },
   "outputs": [
    {
     "data": {
      "text/plain": [
       "1"
      ]
     },
     "execution_count": 7,
     "metadata": {},
     "output_type": "execute_result"
    }
   ],
   "source": [
    "s = \"bbbbb\"\n",
    "lengthOfLongestSubstring(s)"
   ]
  },
  {
   "cell_type": "markdown",
   "metadata": {
    "id": "b-vUFwGlhpon"
   },
   "source": [
    "## Palindrome Number"
   ]
  },
  {
   "cell_type": "code",
   "execution_count": 8,
   "metadata": {
    "id": "awx4m-GLjLHd"
   },
   "outputs": [],
   "source": [
    "def isPalindrome(x: int) -> bool:\n",
    "    digit_list = list(str(x))\n",
    "    reverse_digit_list = digit_list[::-1]\n",
    "    if reverse_digit_list == digit_list:\n",
    "        return True\n",
    "    else:\n",
    "        return False\n",
    "  #Your solution"
   ]
  },
  {
   "cell_type": "markdown",
   "metadata": {
    "id": "YmFarkSk4uzs"
   },
   "source": [
    "### Palindrome Number Test Cases"
   ]
  },
  {
   "cell_type": "code",
   "execution_count": 9,
   "metadata": {
    "colab": {
     "base_uri": "https://localhost:8080/"
    },
    "id": "EzcJK55cjpn7",
    "outputId": "60469dcc-ea01-4599-c529-74cbae77a6d1"
   },
   "outputs": [
    {
     "data": {
      "text/plain": [
       "True"
      ]
     },
     "execution_count": 9,
     "metadata": {},
     "output_type": "execute_result"
    }
   ],
   "source": [
    "x = 121\n",
    "isPalindrome(x)"
   ]
  },
  {
   "cell_type": "code",
   "execution_count": 10,
   "metadata": {
    "colab": {
     "base_uri": "https://localhost:8080/"
    },
    "id": "zOmiq1dakynJ",
    "outputId": "0bffa906-04cf-4cb9-f6e1-0937f84d9687"
   },
   "outputs": [
    {
     "data": {
      "text/plain": [
       "False"
      ]
     },
     "execution_count": 10,
     "metadata": {},
     "output_type": "execute_result"
    }
   ],
   "source": [
    "x = -121\n",
    "isPalindrome(x)"
   ]
  },
  {
   "cell_type": "code",
   "execution_count": 11,
   "metadata": {
    "colab": {
     "base_uri": "https://localhost:8080/"
    },
    "id": "VO9aw281k1lr",
    "outputId": "f06b2ff9-32e8-44a3-abf7-2810ebc81c57"
   },
   "outputs": [
    {
     "data": {
      "text/plain": [
       "False"
      ]
     },
     "execution_count": 11,
     "metadata": {},
     "output_type": "execute_result"
    }
   ],
   "source": [
    "x = 10\n",
    "isPalindrome(x)"
   ]
  },
  {
   "cell_type": "markdown",
   "metadata": {
    "id": "F6ycP-wMlhgw"
   },
   "source": [
    "## Roman to Integer\n"
   ]
  },
  {
   "cell_type": "code",
   "execution_count": 12,
   "metadata": {
    "id": "gZ4Oeqm6le6q"
   },
   "outputs": [],
   "source": [
    "def romanToInt(s: str) -> int:\n",
    "    roman_dict = {\n",
    "        \"I\" : 1,\n",
    "        \"V\" : 5, \n",
    "        \"X\" : 10,\n",
    "        \"L\" : 50,\n",
    "        \"C\" : 100,\n",
    "        \"D\" : 500,\n",
    "        \"M\" : 1000\n",
    "    }\n",
    "\n",
    "    split_roman_string = list(s)\n",
    "    count = 0\n",
    "\n",
    "    for i in range(len(split_roman_string) - 1):\n",
    "        if roman_dict[s[i]] < roman_dict[s[i+1]]:\n",
    "            count = count - roman_dict[s[i]]\n",
    "        else:\n",
    "            count = count + roman_dict[s[i]]\n",
    "\n",
    "    count = count + roman_dict[s[-1]]\n",
    "    return count\n",
    "        \n",
    "    \n",
    "  #Your solution"
   ]
  },
  {
   "cell_type": "code",
   "execution_count": 13,
   "metadata": {
    "colab": {
     "base_uri": "https://localhost:8080/"
    },
    "id": "Bg9EodiznJoC",
    "outputId": "74ce1449-9cd9-41be-e1f4-b0c5bb28525b"
   },
   "outputs": [
    {
     "data": {
      "text/plain": [
       "3"
      ]
     },
     "execution_count": 13,
     "metadata": {},
     "output_type": "execute_result"
    }
   ],
   "source": [
    "s = \"III\"\n",
    "romanToInt(s)"
   ]
  },
  {
   "cell_type": "code",
   "execution_count": 14,
   "metadata": {
    "colab": {
     "base_uri": "https://localhost:8080/"
    },
    "id": "tFcALk4fnSla",
    "outputId": "5aaeb72a-bfab-42a2-d862-5a2a343d5b29"
   },
   "outputs": [
    {
     "data": {
      "text/plain": [
       "58"
      ]
     },
     "execution_count": 14,
     "metadata": {},
     "output_type": "execute_result"
    }
   ],
   "source": [
    "s = \"LVIII\"\n",
    "romanToInt(s)"
   ]
  },
  {
   "cell_type": "code",
   "execution_count": 15,
   "metadata": {
    "colab": {
     "base_uri": "https://localhost:8080/"
    },
    "id": "Znod4JYTnXEG",
    "outputId": "2958b1c2-a4a5-4ba2-805b-df188ab6bf71"
   },
   "outputs": [
    {
     "data": {
      "text/plain": [
       "1994"
      ]
     },
     "execution_count": 15,
     "metadata": {},
     "output_type": "execute_result"
    }
   ],
   "source": [
    "s = \"MCMXCIV\"\n",
    "romanToInt(s)"
   ]
  },
  {
   "cell_type": "markdown",
   "metadata": {
    "id": "G5dx4Ci01Yql"
   },
   "source": [
    "## Longest Common Prefix"
   ]
  },
  {
   "cell_type": "code",
   "execution_count": 16,
   "metadata": {
    "id": "d-h2T94w1diA"
   },
   "outputs": [],
   "source": [
    "def longestCommonPrefix(strs) -> str:\n",
    "    prefix = strs[0]\n",
    "    for string in strs:\n",
    "        while not string.startswith(prefix):\n",
    "            prefix = prefix[:-1]\n",
    "            if prefix == \"\":\n",
    "                return \"\"\n",
    "    return prefix\n",
    "\n",
    "   #Your solution"
   ]
  },
  {
   "cell_type": "code",
   "execution_count": 17,
   "metadata": {
    "colab": {
     "base_uri": "https://localhost:8080/",
     "height": 36
    },
    "id": "UgfhiQYf4C5d",
    "outputId": "cb54431e-1cf9-4f22-9829-525f69052297"
   },
   "outputs": [
    {
     "data": {
      "text/plain": [
       "'fl'"
      ]
     },
     "execution_count": 17,
     "metadata": {},
     "output_type": "execute_result"
    }
   ],
   "source": [
    "strs = [\"flower\",\"flow\",\"flight\"]\n",
    "longestCommonPrefix(strs)"
   ]
  },
  {
   "cell_type": "code",
   "execution_count": 18,
   "metadata": {
    "id": "M2Aq5ako4QJg"
   },
   "outputs": [],
   "source": [
    "strs = [\"dog\",\"racecar\",\"car\"]"
   ]
  }
 ],
 "metadata": {
  "colab": {
   "provenance": []
  },
  "kernelspec": {
   "display_name": "Python 3 (ipykernel)",
   "language": "python",
   "name": "python3"
  },
  "language_info": {
   "codemirror_mode": {
    "name": "ipython",
    "version": 3
   },
   "file_extension": ".py",
   "mimetype": "text/x-python",
   "name": "python",
   "nbconvert_exporter": "python",
   "pygments_lexer": "ipython3",
   "version": "3.11.9"
  }
 },
 "nbformat": 4,
 "nbformat_minor": 4
}
